{
  "nbformat": 4,
  "nbformat_minor": 0,
  "metadata": {
    "colab": {
      "name": "W2v.ipynb",
      "provenance": []
    },
    "kernelspec": {
      "name": "python3",
      "display_name": "Python 3"
    },
    "language_info": {
      "name": "python"
    }
  },
  "cells": [
    {
      "cell_type": "code",
      "execution_count": 1,
      "metadata": {
        "colab": {
          "base_uri": "https://localhost:8080/"
        },
        "id": "v9wCSWAKpq3b",
        "outputId": "c329c274-803c-466c-92fd-3a50f18c3d93"
      },
      "outputs": [
        {
          "output_type": "stream",
          "name": "stdout",
          "text": [
            "[nltk_data] Downloading package stopwords to /root/nltk_data...\n",
            "[nltk_data]   Unzipping corpora/stopwords.zip.\n",
            "[nltk_data] Downloading package punkt to /root/nltk_data...\n",
            "[nltk_data]   Unzipping tokenizers/punkt.zip.\n",
            "[nltk_data] Downloading package wordnet to /root/nltk_data...\n",
            "[nltk_data]   Unzipping corpora/wordnet.zip.\n"
          ]
        },
        {
          "output_type": "execute_result",
          "data": {
            "text/plain": [
              "True"
            ]
          },
          "metadata": {},
          "execution_count": 1
        }
      ],
      "source": [
        "import nltk\n",
        "nltk.download('stopwords')\n",
        "nltk.download('punkt')\n",
        "nltk.download('wordnet')"
      ]
    },
    {
      "cell_type": "code",
      "source": [
        "from evaluation import Evaluation\n",
        "\n",
        "import matplotlib.pyplot as plt\n",
        "from tqdm import tqdm\n",
        "import numpy as np\n",
        "from numpy import dot\n",
        "from numpy.linalg import norm\n",
        "\n",
        "import nltk, json, re, codecs,operator,requests\n",
        "from nltk.tokenize import word_tokenize, sent_tokenize\n",
        "from nltk.stem.snowball import SnowballStemmer\n",
        "from nltk.stem import PorterStemmer\n",
        "from nltk.corpus import stopwords\n",
        "from nltk.stem import WordNetLemmatizer\n",
        "from collections import Counter\n",
        "\n",
        "stoppy = stopwords.words('english')\n",
        "lemmatizer = WordNetLemmatizer()\n",
        "stemmer = SnowballStemmer(\"english\")\n",
        "evaluator = Evaluation()"
      ],
      "metadata": {
        "id": "3Hs5PkPmq3iq"
      },
      "execution_count": 4,
      "outputs": []
    },
    {
      "cell_type": "code",
      "source": [
        "def preproc(dic):\n",
        "  dic_1={}\n",
        "  for tit,artic in dic.items():\n",
        "      tokens = []\n",
        "      for i in sent_tokenize(artic):\n",
        "          for j in word_tokenize(i):\n",
        "              if j not in stoppy:\n",
        "                tokens.extend(re.split(r\"['-/=]\", j))\n",
        "      tokens = [stemmer.stem(word) for word in tokens if word not in ['=','?', ':', '!', '.', ',', ';','',' ']]\n",
        "      dic_1[tit] = [lemmatizer.lemmatize(r) for r in tokens]\n",
        "  return dic_1\n",
        "\n",
        "def cosine_similarity(x,y):\n",
        "  d = norm(x)*norm(y)\n",
        "  if d == 0:\n",
        "    return 0\n",
        "  return dot(x,y)/d\n",
        "\n",
        "def results(doc_IDs_ordered):\n",
        "  # Calculate precision, recall, f-score, MAP and nDCG for k = 1 to 10\n",
        "  precisions, recalls, fscores, MAPs, nDCGs = [], [], [], [], []\n",
        "\n",
        "  for k in range(1, 11):\n",
        "      precision = evaluator.meanPrecision(doc_IDs_ordered, query_ids, qrels, k)\n",
        "      precisions.append(precision)\n",
        "      recall = evaluator.meanRecall(doc_IDs_ordered, query_ids, qrels, k)\n",
        "      recalls.append(recall)\n",
        "      fscore = evaluator.meanFscore(doc_IDs_ordered, query_ids, qrels, k)\n",
        "      fscores.append(fscore)\n",
        "      \n",
        "      print(\"Precision, Recall and F-score @ \" +  str(k) + \" : \" + str(precision) + \", \" + str(recall) + \", \" + str(fscore))\n",
        "      \n",
        "      MAP = evaluator.meanAveragePrecision(doc_IDs_ordered, query_ids, qrels, k)\n",
        "      MAPs.append(MAP)\n",
        "      nDCG = evaluator.meanNDCG(doc_IDs_ordered, query_ids, qrels, k)\n",
        "      nDCGs.append(nDCG)\n",
        "      print(\"MAP, nDCG @ \" +  \n",
        "          str(k) + \" : \" + str(MAP) + \", \" + str(nDCG))\n",
        "      # Plot the metrics and save plot \n",
        "  plt.figure(figsize=(10,8))\n",
        "  plt.plot(range(1, 11), precisions, label=\"Precision\")\n",
        "  plt.plot(range(1, 11), recalls, label=\"Recall\")\n",
        "  plt.plot(range(1, 11), fscores, label=\"F-Score\")\n",
        "  plt.plot(range(1, 11), MAPs, label=\"MAP\")\n",
        "  plt.plot(range(1, 11), nDCGs, label=\"nDCG\")\n",
        "  plt.legend()\n",
        "  plt.title(\"Evaluation Metrics - Cranfield Dataset\")\n",
        "  plt.xlabel(\"k\")\n",
        "  plt.savefig(\"eval_plot.png\")\n",
        "\n"
      ],
      "metadata": {
        "id": "9nlDMmicrYSf"
      },
      "execution_count": 5,
      "outputs": []
    },
    {
      "cell_type": "code",
      "source": [
        "with open('cran_docs.json') as f:    #Read docs\n",
        "  docs = json.load(f)\n",
        "with open('cran_queries.json') as f: #Read queries\n",
        "  queries = json.load(f)\n",
        "with open('cran_qrels.json') as f:   #Read relevance judements\n",
        "  qrels = json.load(f)\n",
        "\n",
        "docy = {} \n",
        "for i,body in enumerate([item[\"body\"] for item in docs]):\n",
        "  docy[i+1] = body\n",
        "\n",
        "queryy = {}\n",
        "for i,q in enumerate([qry[\"query\"] for qry in queries]):\n",
        "  queryy[i+1] = q\n",
        "\n",
        "query_ids = list(queryy.keys())\n",
        "processedQueries = preproc(queryy)\n",
        "processedDocs = preproc(docy)\n"
      ],
      "metadata": {
        "id": "q_99K2AVrewY"
      },
      "execution_count": 7,
      "outputs": []
    },
    {
      "cell_type": "code",
      "source": [
        "types_doc = []\n",
        "\n",
        "for doc in processedDocs.values():\n",
        "    for word in doc:\n",
        "        if word not in types_doc: \n",
        "            types_doc.append(word)\n",
        "\n",
        "print(\"Number of types in Cranfield dataset = \",len(types_doc))\n",
        "\n",
        "types_qry = []\n",
        "for doc in processedQueries.values():\n",
        "    for word in doc:\n",
        "        if word not in types_qry: \n",
        "            types_qry.append(word)\n",
        "\n",
        "print(\"Number of types in Cranfield queries = \",len(types_qry))\n",
        "\n",
        "new_types = set(types_qry)-set(types_doc)\n",
        "print(\"Number of types in queries but not in the dataset = \", len(new_types))\n",
        "print(\"Mentionably, \",new_types)"
      ],
      "metadata": {
        "colab": {
          "base_uri": "https://localhost:8080/"
        },
        "id": "KKat0cxLruwt",
        "outputId": "e6820b3e-bb2f-4464-c9d4-820c2bec4655"
      },
      "execution_count": 11,
      "outputs": [
        {
          "output_type": "stream",
          "name": "stdout",
          "text": [
            "Number of types in Cranfield dataset =  4684\n",
            "Number of types in Cranfield queries =  702\n",
            "Number of types in queries but not in the dataset =  14\n",
            "Mentionably,  {'orthodox', 'unnecessarili', 'el', 'multhopp', 'anyon', 'empti', 'magneticfield', 'ca', 'realiti', 'stop', 'wild', 'trust', 'virtu', 'stabilityproblem'}\n"
          ]
        }
      ]
    },
    {
      "cell_type": "code",
      "source": [
        "L = len(types_doc)\n",
        "D = len(processedDocs)\n",
        "\n",
        "TD_matrix = np.zeros([L,D]) # term-document matrix\n",
        "                            # At the end\n",
        "                            # each column of this matrix will be the TD-IDF vector representation of the corresponding document\n",
        "\n",
        "for col, doc in processedDocs.items():                  # iterating over documents\n",
        "    for word in doc:\n",
        "        row = types_doc.index(word)\n",
        "        TD_matrix[row,col-1] += 1\n",
        "\n",
        "df = np.sum(TD_matrix > 0, axis=1)     # sum across rows over the Boolean matrix\n",
        "                                        # document frequency for each type in cranfield dataset \n",
        "\n",
        "IDF = np.log(D/df)\n",
        "\n",
        "for i in range(L):\n",
        "    TD_matrix[i,:] *= IDF[i]   \n",
        "\n",
        "# Dictionary in which key:value ==> doc_ID:Corresponding TD-IDF vector representation\n",
        "index_doc = {doc_id:vector for (doc_id,vector) in zip(processedDocs.keys(),TD_matrix.transpose())}  \n"
      ],
      "metadata": {
        "id": "xngr4ADrr6eO"
      },
      "execution_count": 12,
      "outputs": []
    },
    {
      "cell_type": "code",
      "source": [
        "Q = len(queries)\n",
        "TQ_matrix = np.zeros([L,Q]) \n",
        "for col, query in processedQueries.items():                  # iterating over documents\n",
        "    for word in query:\n",
        "      try:\n",
        "        row = types_doc.index(word)\n",
        "        TQ_matrix[row,col-1] += 1\n",
        "      except:\n",
        "        pass\n",
        "\n",
        "for col in range(Q):\n",
        "  for q in processedQueries[col+1]:\n",
        "    try:\n",
        "      row = types_doc.index(q)    \n",
        "      TQ_matrix[row,col] = IDF[row]*TQ_matrix[row,col]\n",
        "    except:\n",
        "      pass"
      ],
      "metadata": {
        "id": "a3JORZ8ur-wc"
      },
      "execution_count": 13,
      "outputs": []
    },
    {
      "cell_type": "code",
      "source": [
        "doc_IDs_ordered  = []\n",
        "\n",
        "for j in tqdm(range(Q)):\n",
        "  cos_sim = {}\n",
        "  for doc_id, doc_vector in index_doc.items():\n",
        "      cos_sim[doc_id] = cosine_similarity(doc_vector,TQ_matrix[:,j])\n",
        "  doc_IDs_ordered.append([x for x, _ in sorted(cos_sim.items(),key = operator.itemgetter(1),reverse = True)])\n",
        "\n",
        "results(doc_IDs_ordered)"
      ],
      "metadata": {
        "colab": {
          "base_uri": "https://localhost:8080/",
          "height": 877
        },
        "id": "9ZynIsOysA_I",
        "outputId": "7910b1b2-6aae-4ad3-843b-a67076aa2241"
      },
      "execution_count": 14,
      "outputs": [
        {
          "output_type": "stream",
          "name": "stderr",
          "text": [
            "100%|██████████| 225/225 [00:57<00:00,  3.89it/s]\n"
          ]
        },
        {
          "output_type": "stream",
          "name": "stdout",
          "text": [
            "Precision, Recall and F-score @ 1 : 0.6311111111111111, 0.1058081315820435, 0.17426116719793874\n",
            "MAP, nDCG @ 1 : 0.1058081315820435, 0.5166666666666667\n",
            "Precision, Recall and F-score @ 2 : 0.5377777777777778, 0.1775417907954971, 0.25022228999108204\n",
            "MAP, nDCG @ 2 : 0.1687931979328691, 0.48474939590383215\n",
            "Precision, Recall and F-score @ 3 : 0.482962962962963, 0.2285454614064131, 0.2877105467591824\n",
            "MAP, nDCG @ 3 : 0.209730216636404, 0.46181068387573715\n",
            "Precision, Recall and F-score @ 4 : 0.43, 0.26325155400662337, 0.3017561425688163\n",
            "MAP, nDCG @ 4 : 0.23298858629869515, 0.4489841359221508\n",
            "Precision, Recall and F-score @ 5 : 0.4, 0.30056389371369996, 0.3167752280573656\n",
            "MAP, nDCG @ 5 : 0.25240345771707534, 0.44686324203330413\n",
            "Precision, Recall and F-score @ 6 : 0.37037037037037046, 0.3329352224700861, 0.3233105976791096\n",
            "MAP, nDCG @ 6 : 0.2678790414493641, 0.4496257071761475\n",
            "Precision, Recall and F-score @ 7 : 0.34476190476190516, 0.3565680829780757, 0.32365600593526356\n",
            "MAP, nDCG @ 7 : 0.27950431714614216, 0.45166159074119006\n",
            "Precision, Recall and F-score @ 8 : 0.32166666666666666, 0.37618558542364816, 0.32042323745783874\n",
            "MAP, nDCG @ 8 : 0.2889309879006638, 0.45453324292474045\n",
            "Precision, Recall and F-score @ 9 : 0.2992592592592596, 0.3885040491075614, 0.3125687634833385\n",
            "MAP, nDCG @ 9 : 0.29476403930711326, 0.45589904493674493\n",
            "Precision, Recall and F-score @ 10 : 0.2840000000000002, 0.4075422344641376, 0.309623541187449\n",
            "MAP, nDCG @ 10 : 0.30190465775209935, 0.4611197889815953\n"
          ]
        },
        {
          "output_type": "display_data",
          "data": {
            "text/plain": [
              "<Figure size 720x576 with 1 Axes>"
            ],
            "image/png": "[encoded data removed]"
          },
          "metadata": {
            "needs_background": "light"
          }
        }
      ]
    },
    {
      "cell_type": "code",
      "source": [
        ""
      ],
      "metadata": {
        "id": "_28Mo5knsFC2"
      },
      "execution_count": null,
      "outputs": []
    },
    {
      "cell_type": "markdown",
      "source": [
        "Word2vec\n"
      ],
      "metadata": {
        "id": "URTbZg0MsVfY"
      }
    },
    {
      "cell_type": "code",
      "source": [
        "import gensim.models\n",
        "\n",
        "class MyCorpus:\n",
        "  def __iter__(self):\n",
        "      for doc in processedDocs.values():\n",
        "        yield doc\n",
        "sentences = MyCorpus()"
      ],
      "metadata": {
        "id": "SIie56QCq6rY"
      },
      "execution_count": 15,
      "outputs": []
    },
    {
      "cell_type": "code",
      "source": [
        "model = gensim.models.Word2Vec(sentences, min_count=1,size= 700,workers=4, window =3, sg =1);"
      ],
      "metadata": {
        "id": "L6w8YiybsfIA"
      },
      "execution_count": 16,
      "outputs": []
    },
    {
      "cell_type": "code",
      "source": [
        "mostSim = {term:model.wv.most_similar(term)[:5] for term in types_qry if term in types_doc}\n",
        "def queryEx_w2v(processedQueries,mostSim,weight):\n",
        "  wr_dic = {}; expanded_query = {}\n",
        "  for q_id,qry in processedQueries.items():\n",
        "    sim_dic = {}; expanded = qry.copy();\n",
        "    for q in qry:\n",
        "      sim_dic[q] = 1\n",
        "      try:\n",
        "        for i in mostSim[q]:\n",
        "          if i[0] not in expanded:\n",
        "            expanded.append(i[0])\n",
        "            #sim_dic[i[0]] = i[1] #watch out\n",
        "            sim_dic[i[0]] = weight\n",
        "      except KeyError:\n",
        "        pass\n",
        "    \n",
        "    expanded_query[q_id] = expanded\n",
        "    wr_dic[q_id] = sim_dic\n",
        "  return expanded_query, wr_dic"
      ],
      "metadata": {
        "id": "Vqo9X2JZshp3"
      },
      "execution_count": 17,
      "outputs": []
    },
    {
      "cell_type": "code",
      "source": [
        "exQ_w2v, wrD_w2v = queryEx_w2v(processedQueries,mostSim,0.1)"
      ],
      "metadata": {
        "id": "tmzXyjtYsoCp"
      },
      "execution_count": 18,
      "outputs": []
    },
    {
      "cell_type": "code",
      "source": [
        "TQ_matrix_w2v = np.zeros([L,Q])\n",
        "for col, query in exQ_w2v.items():                  # iterating over documents\n",
        "    for word in query:\n",
        "      try:\n",
        "        row = types_doc.index(word)\n",
        "        TQ_matrix_w2v[row,col-1] += 1\n",
        "      except:\n",
        "        pass\n",
        "\n",
        "for col in range(Q):\n",
        "  weights = wrD_w2v[col+1]\n",
        "  for q in exQ_w2v[col+1]:\n",
        "    try:\n",
        "      row = types_doc.index(q)    \n",
        "      TQ_matrix_w2v[row,col] = weights[q]*IDF[row]*TQ_matrix_w2v[row,col]\n",
        "    except:\n",
        "      pass"
      ],
      "metadata": {
        "id": "65dWxiM3ssNF"
      },
      "execution_count": 19,
      "outputs": []
    },
    {
      "cell_type": "code",
      "source": [
        "doc_IDs_ordered_w2v  = []\n",
        "\n",
        "for j in tqdm(range(Q)):\n",
        "  cos_sim = {}\n",
        "  for doc_id, doc_vector in index_doc.items():\n",
        "      cos_sim[doc_id] = cosine_similarity(doc_vector,TQ_matrix_w2v[:,j])\n",
        "  doc_IDs_ordered_w2v.append([x for x, _ in sorted(cos_sim.items(),key = operator.itemgetter(1),reverse = True)])\n",
        "\n",
        "results(doc_IDs_ordered_w2v)"
      ],
      "metadata": {
        "colab": {
          "base_uri": "https://localhost:8080/",
          "height": 877
        },
        "id": "XqPtq6Casu1c",
        "outputId": "7ab998f1-b510-4930-e12e-d5a56c1313df"
      },
      "execution_count": 20,
      "outputs": [
        {
          "output_type": "stream",
          "name": "stderr",
          "text": [
            "100%|██████████| 225/225 [01:04<00:00,  3.50it/s]\n"
          ]
        },
        {
          "output_type": "stream",
          "name": "stdout",
          "text": [
            "Precision, Recall and F-score @ 1 : 0.6222222222222222, 0.10412640200557709, 0.171509844446616\n",
            "MAP, nDCG @ 1 : 0.10412640200557709, 0.5111111111111111\n",
            "Precision, Recall and F-score @ 2 : 0.5377777777777778, 0.1784298204358487, 0.2513811969786784\n",
            "MAP, nDCG @ 2 : 0.16812230501429815, 0.48335116712726456\n",
            "Precision, Recall and F-score @ 3 : 0.48592592592592593, 0.22796928060216212, 0.28824930429793993\n",
            "MAP, nDCG @ 3 : 0.2073950184350207, 0.46240265811762793\n",
            "Precision, Recall and F-score @ 4 : 0.4388888888888889, 0.26660135235642174, 0.3067400809253037\n",
            "MAP, nDCG @ 4 : 0.23246292156254714, 0.4511158973463217\n",
            "Precision, Recall and F-score @ 5 : 0.40355555555555567, 0.3017396500561231, 0.31891504756973416\n",
            "MAP, nDCG @ 5 : 0.25115298692278787, 0.4489899277416753\n",
            "Precision, Recall and F-score @ 6 : 0.3718518518518518, 0.333053695850561, 0.3243542940094903\n",
            "MAP, nDCG @ 6 : 0.267361714590666, 0.4500717224429754\n",
            "Precision, Recall and F-score @ 7 : 0.34603174603174647, 0.3596589511742072, 0.32596146034529316\n",
            "MAP, nDCG @ 7 : 0.28036843948409046, 0.45257493115840236\n",
            "Precision, Recall and F-score @ 8 : 0.3188888888888889, 0.37328570409974293, 0.3179062769837858\n",
            "MAP, nDCG @ 8 : 0.28748182127171157, 0.4523271382085764\n",
            "Precision, Recall and F-score @ 9 : 0.2992592592592596, 0.39089235728678823, 0.3135387457395136\n",
            "MAP, nDCG @ 9 : 0.2945239582680968, 0.45607608242382514\n",
            "Precision, Recall and F-score @ 10 : 0.2813333333333335, 0.4068343129471347, 0.30802010868718943\n",
            "MAP, nDCG @ 10 : 0.2999735706820769, 0.4594604904648516\n"
          ]
        },
        {
          "output_type": "display_data",
          "data": {
            "text/plain": [
              "<Figure size 720x576 with 1 Axes>"
            ],
            "image/png": "[encoded data removed]"
          },
          "metadata": {
            "needs_background": "light"
          }
        }
      ]
    },
    {
      "cell_type": "code",
      "source": [
        "doc_IDs_ordered_w2v[2][0:10]"
      ],
      "metadata": {
        "colab": {
          "base_uri": "https://localhost:8080/"
        },
        "id": "bEkpPiOKs4DI",
        "outputId": "997330b2-5bbd-47eb-eb1b-a5cc4cdf101b"
      },
      "execution_count": 27,
      "outputs": [
        {
          "output_type": "execute_result",
          "data": {
            "text/plain": [
              "[485, 5, 90, 91, 144, 582, 399, 181, 6, 579]"
            ]
          },
          "metadata": {},
          "execution_count": 27
        }
      ]
    }
  ]
}
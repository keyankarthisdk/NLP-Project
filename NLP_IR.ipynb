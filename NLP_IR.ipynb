{
  "nbformat": 4,
  "nbformat_minor": 0,
  "metadata": {
    "colab": {
      "name": "Final.ipynb",
      "provenance": [],
      "collapsed_sections": [],
      "toc_visible": true
    },
    "kernelspec": {
      "name": "python3",
      "display_name": "Python 3"
    },
    "language_info": {
      "name": "python"
    },
    "accelerator": "TPU"
  },
  "cells": [
    {
      "cell_type": "markdown",
      "metadata": {
        "id": "PU--aOSX77HN"
      },
      "source": [
        "## **Importing necessary libraries and Preprocessing queries, docs**"
      ]
    },
    {
      "cell_type": "code",
      "metadata": {
        "id": "GzlbC6g1F8Kc",
        "colab": {
          "base_uri": "https://localhost:8080/"
        },
        "outputId": "fae0d7a4-830d-4f80-fd9d-7dd50481667a"
      },
      "source": [
        "import nltk\n",
        "nltk.download('stopwords')\n",
        "nltk.download('punkt')\n",
        "nltk.download('wordnet')"
      ],
      "execution_count": 2,
      "outputs": [
        {
          "output_type": "stream",
          "text": [
            "[nltk_data] Downloading package stopwords to /root/nltk_data...\n",
            "[nltk_data]   Package stopwords is already up-to-date!\n",
            "[nltk_data] Downloading package punkt to /root/nltk_data...\n",
            "[nltk_data]   Package punkt is already up-to-date!\n",
            "[nltk_data] Downloading package wordnet to /root/nltk_data...\n",
            "[nltk_data]   Package wordnet is already up-to-date!\n"
          ],
          "name": "stdout"
        },
        {
          "output_type": "execute_result",
          "data": {
            "text/plain": [
              "True"
            ]
          },
          "metadata": {
            "tags": []
          },
          "execution_count": 2
        }
      ]
    },
    {
      "cell_type": "code",
      "metadata": {
        "id": "x_LCsPYMGBdo"
      },
      "source": [
        "from evaluation import Evaluation\n",
        "\n",
        "import matplotlib.pyplot as plt\n",
        "from tqdm import tqdm\n",
        "import numpy as np\n",
        "from numpy import dot\n",
        "from numpy.linalg import norm\n",
        "\n",
        "import nltk, json, re, codecs,operator,requests\n",
        "from nltk.tokenize import word_tokenize, sent_tokenize\n",
        "from nltk.stem.snowball import SnowballStemmer\n",
        "from nltk.stem import PorterStemmer\n",
        "from nltk.corpus import stopwords\n",
        "from nltk.stem import WordNetLemmatizer\n",
        "from collections import Counter\n",
        "\n",
        "stoppy = stopwords.words('english')\n",
        "lemmatizer = WordNetLemmatizer()\n",
        "stemmer = SnowballStemmer(\"english\")\n",
        "evaluator = Evaluation()"
      ],
      "execution_count": 3,
      "outputs": []
    },
    {
      "cell_type": "code",
      "metadata": {
        "id": "YzDCJaBqGUZ-"
      },
      "source": [
        "def preproc(dic):\n",
        "  dic_1={};\n",
        "  for tit,artic in dic.items():\n",
        "      tokens = []\n",
        "      for i in sent_tokenize(artic):\n",
        "          for j in word_tokenize(i):\n",
        "              if j not in stoppy:\n",
        "                tokens.extend(re.split(r\"['-/=]\", j))\n",
        "      tokens = [stemmer.stem(word) for word in tokens if word not in ['=','?', ':', '!', '.', ',', ';','',' ']]\n",
        "      dic_1[tit] = [lemmatizer.lemmatize(r) for r in tokens]\n",
        "  return dic_1\n",
        "\n",
        "def cosine_similarity(x,y):\n",
        "  d = norm(x)*norm(y)\n",
        "  if d == 0:\n",
        "    return 0\n",
        "  return dot(x,y)/d\n",
        "\n",
        "def results(doc_IDs_ordered):\n",
        "  # Calculate precision, recall, f-score, MAP and nDCG for k = 1 to 10\n",
        "  precisions, recalls, fscores, MAPs, nDCGs = [], [], [], [], []\n",
        "\n",
        "  for k in range(1, 11):\n",
        "      precision = evaluator.meanPrecision(doc_IDs_ordered, query_ids, qrels, k)\n",
        "      precisions.append(precision)\n",
        "      recall = evaluator.meanRecall(doc_IDs_ordered, query_ids, qrels, k)\n",
        "      recalls.append(recall)\n",
        "      fscore = evaluator.meanFscore(doc_IDs_ordered, query_ids, qrels, k)\n",
        "      fscores.append(fscore)\n",
        "      \n",
        "      print(\"Precision, Recall and F-score @ \" +  str(k) + \" : \" + str(precision) + \", \" + str(recall) + \", \" + str(fscore))\n",
        "      \n",
        "      MAP = evaluator.meanAveragePrecision(doc_IDs_ordered, query_ids, qrels, k)\n",
        "      MAPs.append(MAP)\n",
        "      nDCG = evaluator.meanNDCG(doc_IDs_ordered, query_ids, qrels, k)\n",
        "      nDCGs.append(nDCG)\n",
        "      print(\"MAP, nDCG @ \" +  \n",
        "          str(k) + \" : \" + str(MAP) + \", \" + str(nDCG))\n",
        "      # Plot the metrics and save plot \n",
        "  plt.figure(figsize=(10,8))\n",
        "  plt.plot(range(1, 11), precisions, label=\"Precision\")\n",
        "  plt.plot(range(1, 11), recalls, label=\"Recall\")\n",
        "  plt.plot(range(1, 11), fscores, label=\"F-Score\")\n",
        "  plt.plot(range(1, 11), MAPs, label=\"MAP\")\n",
        "  plt.plot(range(1, 11), nDCGs, label=\"nDCG\")\n",
        "  plt.legend()\n",
        "  plt.title(\"Evaluation Metrics - Cranfield Dataset\")\n",
        "  plt.xlabel(\"k\")\n",
        "  plt.savefig(\"eval_plot.png\")\n",
        "\n"
      ],
      "execution_count": 4,
      "outputs": []
    },
    {
      "cell_type": "code",
      "metadata": {
        "id": "7u-ESqP2GboW"
      },
      "source": [
        "with open('cran_docs.json') as f:    #Read docs\n",
        "  docs = json.load(f)\n",
        "with open('cran_queries.json') as f: #Read queries\n",
        "  queries = json.load(f)\n",
        "with open('cran_qrels.json') as f:   #Read relevance judements\n",
        "  qrels = json.load(f)\n",
        "\n",
        "docy = {} \n",
        "for i,body in enumerate([item[\"body\"] for item in docs]):\n",
        "  docy[i+1] = body\n",
        "\n",
        "queryy = {}\n",
        "for i,q in enumerate([qry[\"query\"] for qry in queries]):\n",
        "  queryy[i+1] = q\n",
        "\n",
        "query_ids = list(queryy.keys())\n",
        "processedQueries = preproc(queryy)\n",
        "processedDocs = preproc(docy)\n"
      ],
      "execution_count": 5,
      "outputs": []
    },
    {
      "cell_type": "code",
      "metadata": {
        "id": "UhdTJezWGzzw",
        "colab": {
          "base_uri": "https://localhost:8080/"
        },
        "outputId": "12acd26b-37ce-4db5-e880-23a5229fd5cb"
      },
      "source": [
        "types_doc = []\n",
        "\n",
        "for doc in processedDocs.values():\n",
        "    for word in doc:\n",
        "        if word not in types_doc: \n",
        "            types_doc.append(word)\n",
        "\n",
        "print(\"Number of types in Cranfield dataset = \",len(types_doc))\n",
        "\n",
        "types_qry = []\n",
        "for doc in processedQueries.values():\n",
        "    for word in doc:\n",
        "        if word not in types_qry: \n",
        "            types_qry.append(word)\n",
        "\n",
        "print(\"Number of types in Cranfield queries = \",len(types_qry))\n",
        "\n",
        "new_types = set(types_qry)-set(types_doc)\n",
        "print(\"Number of types in queries but not in the dataset = \", len(new_types))\n",
        "print(\"Mentionably, \",new_types)"
      ],
      "execution_count": 6,
      "outputs": [
        {
          "output_type": "stream",
          "text": [
            "Number of types in Cranfield dataset =  4684\n",
            "Number of types in Cranfield queries =  702\n",
            "Number of types in queries but not in the dataset =  14\n",
            "Mentionably,  {'empti', 'wild', 'unnecessarili', 'trust', 'anyon', 'ca', 'el', 'multhopp', 'orthodox', 'stabilityproblem', 'magneticfield', 'virtu', 'realiti', 'stop'}\n"
          ],
          "name": "stdout"
        }
      ]
    },
    {
      "cell_type": "markdown",
      "metadata": {
        "id": "q5d_62YoMfWx"
      },
      "source": [
        "## **Classic Bag of Words Model (CBoW)**"
      ]
    },
    {
      "cell_type": "code",
      "metadata": {
        "id": "Exf-AhMv7Asr"
      },
      "source": [
        "L = len(types_doc)\n",
        "D = len(processedDocs)\n",
        "\n",
        "TD_matrix = np.zeros([L,D]) # term-document matrix\n",
        "                            # At the end\n",
        "                            # each column of this matrix will be the TD-IDF vector representation of the corresponding document\n",
        "\n",
        "for col, doc in processedDocs.items():                  # iterating over documents\n",
        "    for word in doc:\n",
        "        row = types_doc.index(word)\n",
        "        TD_matrix[row,col-1] += 1\n",
        "\n",
        "df = np.sum(TD_matrix > 0, axis=1)     # sum across rows over the Boolean matrix\n",
        "                                        # document frequency for each type in cranfield dataset \n",
        "\n",
        "IDF = np.log(D/df)\n",
        "\n",
        "for i in range(L):\n",
        "    TD_matrix[i,:] *= IDF[i]   \n",
        "\n",
        "# Dictionary in which key:value ==> doc_ID:Corresponding TD-IDF vector representation\n",
        "index_doc = {doc_id:vector for (doc_id,vector) in zip(processedDocs.keys(),TD_matrix.transpose())}  \n"
      ],
      "execution_count": 7,
      "outputs": []
    },
    {
      "cell_type": "code",
      "metadata": {
        "id": "MDNeodP3Y_tm"
      },
      "source": [
        "Q = len(queries)\n",
        "TQ_matrix = np.zeros([L,Q]) \n",
        "for col, query in processedQueries.items():                  # iterating over documents\n",
        "    for word in query:\n",
        "      try:\n",
        "        row = types_doc.index(word)\n",
        "        TQ_matrix[row,col-1] += 1\n",
        "      except:\n",
        "        pass\n",
        "\n",
        "for col in range(Q):\n",
        "  for q in processedQueries[col+1]:\n",
        "    try:\n",
        "      row = types_doc.index(q)    \n",
        "      TQ_matrix[row,col] = IDF[row]*TQ_matrix[row,col]\n",
        "    except:\n",
        "      pass"
      ],
      "execution_count": 8,
      "outputs": []
    },
    {
      "cell_type": "code",
      "metadata": {
        "id": "bAus3g7Udhru",
        "colab": {
          "base_uri": "https://localhost:8080/",
          "height": 873
        },
        "outputId": "f786058c-764c-423f-9131-c485b364a869"
      },
      "source": [
        "doc_IDs_ordered  = []\n",
        "\n",
        "for j in tqdm(range(Q)):\n",
        "  cos_sim = {}\n",
        "  for doc_id, doc_vector in index_doc.items():\n",
        "      cos_sim[doc_id] = cosine_similarity(doc_vector,TQ_matrix[:,j])\n",
        "  doc_IDs_ordered.append([x for x, _ in sorted(cos_sim.items(),key = operator.itemgetter(1),reverse = True)])\n",
        "\n",
        "results(doc_IDs_ordered)"
      ],
      "execution_count": 9,
      "outputs": [
        {
          "output_type": "stream",
          "text": [
            "100%|██████████| 225/225 [00:54<00:00,  4.09it/s]\n"
          ],
          "name": "stderr"
        },
        {
          "output_type": "stream",
          "text": [
            "Precision, Recall and F-score @ 1 : 0.6311111111111111, 0.1058081315820435, 0.17426116719793874\n",
            "MAP, nDCG @ 1 : 0.1058081315820435, 0.5166666666666667\n",
            "Precision, Recall and F-score @ 2 : 0.5377777777777778, 0.1775417907954971, 0.25022228999108204\n",
            "MAP, nDCG @ 2 : 0.1687931979328691, 0.48474939590383215\n",
            "Precision, Recall and F-score @ 3 : 0.482962962962963, 0.2285454614064131, 0.2877105467591824\n",
            "MAP, nDCG @ 3 : 0.209730216636404, 0.46181068387573715\n",
            "Precision, Recall and F-score @ 4 : 0.43, 0.26325155400662337, 0.3017561425688163\n",
            "MAP, nDCG @ 4 : 0.23298858629869515, 0.4489841359221508\n",
            "Precision, Recall and F-score @ 5 : 0.4, 0.30056389371369996, 0.3167752280573656\n",
            "MAP, nDCG @ 5 : 0.25240345771707534, 0.44686324203330413\n",
            "Precision, Recall and F-score @ 6 : 0.37037037037037046, 0.3329352224700861, 0.3233105976791096\n",
            "MAP, nDCG @ 6 : 0.2678790414493641, 0.4496257071761475\n",
            "Precision, Recall and F-score @ 7 : 0.34476190476190516, 0.3565680829780757, 0.32365600593526356\n",
            "MAP, nDCG @ 7 : 0.27950431714614216, 0.45166159074119006\n",
            "Precision, Recall and F-score @ 8 : 0.32166666666666666, 0.37618558542364816, 0.32042323745783874\n",
            "MAP, nDCG @ 8 : 0.2889309879006638, 0.45453324292474045\n",
            "Precision, Recall and F-score @ 9 : 0.2992592592592596, 0.3885040491075614, 0.3125687634833385\n",
            "MAP, nDCG @ 9 : 0.29476403930711326, 0.45589904493674493\n",
            "Precision, Recall and F-score @ 10 : 0.2840000000000002, 0.4075422344641376, 0.309623541187449\n",
            "MAP, nDCG @ 10 : 0.30190465775209935, 0.4611197889815953\n"
          ],
          "name": "stdout"
        },
        {
          "output_type": "display_data",
          "data": {
            "image/png": "[encoded data removed]",
            "text/plain": [
              "<Figure size 720x576 with 1 Axes>"
            ]
          },
          "metadata": {
            "tags": [],
            "needs_background": "light"
          }
        }
      ]
    },
    {
      "cell_type": "code",
      "metadata": {
        "id": "z80ITQrL1_x_"
      },
      "source": [
        ""
      ],
      "execution_count": null,
      "outputs": []
    },
    {
      "cell_type": "markdown",
      "metadata": {
        "id": "AmAE7Ea_wevb"
      },
      "source": [
        "# **EXPLICIT SEMANTIC ANALYSIS**"
      ]
    },
    {
      "cell_type": "code",
      "metadata": {
        "colab": {
          "base_uri": "https://localhost:8080/"
        },
        "id": "MEral4eeyzxU",
        "outputId": "70e11b76-5c68-45f7-9c9e-ff92524efef2"
      },
      "source": [
        "pip install wikipedia"
      ],
      "execution_count": 49,
      "outputs": [
        {
          "output_type": "stream",
          "text": [
            "Requirement already satisfied: wikipedia in /usr/local/lib/python3.7/dist-packages (1.4.0)\n",
            "Requirement already satisfied: requests<3.0.0,>=2.0.0 in /usr/local/lib/python3.7/dist-packages (from wikipedia) (2.23.0)\n",
            "Requirement already satisfied: beautifulsoup4 in /usr/local/lib/python3.7/dist-packages (from wikipedia) (4.6.3)\n",
            "Requirement already satisfied: chardet<4,>=3.0.2 in /usr/local/lib/python3.7/dist-packages (from requests<3.0.0,>=2.0.0->wikipedia) (3.0.4)\n",
            "Requirement already satisfied: urllib3!=1.25.0,!=1.25.1,<1.26,>=1.21.1 in /usr/local/lib/python3.7/dist-packages (from requests<3.0.0,>=2.0.0->wikipedia) (1.24.3)\n",
            "Requirement already satisfied: idna<3,>=2.5 in /usr/local/lib/python3.7/dist-packages (from requests<3.0.0,>=2.0.0->wikipedia) (2.10)\n",
            "Requirement already satisfied: certifi>=2017.4.17 in /usr/local/lib/python3.7/dist-packages (from requests<3.0.0,>=2.0.0->wikipedia) (2020.12.5)\n"
          ],
          "name": "stdout"
        }
      ]
    },
    {
      "cell_type": "code",
      "metadata": {
        "colab": {
          "base_uri": "https://localhost:8080/"
        },
        "id": "0pJvroTVy8a-",
        "outputId": "539dfd97-4da3-4867-bc28-a9deb4818f22"
      },
      "source": [
        "%%time\n",
        "import wikipedia\n",
        "s1 = \"https://petscan.wmflabs.org/?max_sitelink_count=&categories=\"\n",
        "s2 = \"&project=wikipedia&language=en&cb_labels_yes_l=1&edits%5Bflagged%5D=both&edits%5Bbots%5D=both&search_max_results=500&cb_labels_any_l=1&cb_labels_no_l=1&format=json&interface_language=en&edits%5Banons%5D=both&ns%5B0%5D=1&&doit=\"\n",
        "words = ['Thermal_conduction','Aerodynamics','Aeroelasticity','Aerodynamic_heating','Flight_control_surfaces','Aircraft_engine_controls','Aeronautics',\n",
        "'Aircraft_flight_control_system','Hypersonic_speed','Buckling','Slipstream','Propeller','Velocity','Orthotropic_material','Stress–strain_curve',\n",
        "'Blended_wing_body','Flap_(aeronautics)','Hydrostatics','Aerodynamic_force','Airfoil','Pitot-static_system','Aileron','Viscosity']\n",
        "\n",
        "wiki = []\n",
        "for q in words:\n",
        "    link = s1+q+s2\n",
        "    petscan = requests.get(link).json()\n",
        "    table = petscan['*'][0]['a']['*']\n",
        "    topics = [item[\"title\"].replace(\"_\",\" \") for item in table if item[\"title\"].replace(\"_\",\" \") not in wiki]\n",
        "    wiki += topics     \n",
        "    \n",
        "wiki_articles = {}\n",
        "for w in wiki:\n",
        "    try:\n",
        "        wiki_articles[w] = wikipedia.page(w).content.lower()\n",
        "    except:\n",
        "        pass   "
      ],
      "execution_count": 50,
      "outputs": [
        {
          "output_type": "stream",
          "text": [
            "/usr/local/lib/python3.7/dist-packages/wikipedia/wikipedia.py:389: UserWarning: No parser was explicitly specified, so I'm using the best available HTML parser for this system (\"lxml\"). This usually isn't a problem, but if you run this code on another system, or in a different virtual environment, it may use a different parser and behave differently.\n",
            "\n",
            "The code that caused this warning is on line 389 of the file /usr/local/lib/python3.7/dist-packages/wikipedia/wikipedia.py. To get rid of this warning, pass the additional argument 'features=\"lxml\"' to the BeautifulSoup constructor.\n",
            "\n",
            "  lis = BeautifulSoup(html).find_all('li')\n"
          ],
          "name": "stderr"
        },
        {
          "output_type": "stream",
          "text": [
            "CPU times: user 10.6 s, sys: 687 ms, total: 11.3 s\n",
            "Wall time: 3min 6s\n"
          ],
          "name": "stdout"
        }
      ]
    },
    {
      "cell_type": "code",
      "metadata": {
        "id": "LgwJ6HnnzwLU"
      },
      "source": [
        "processedWiki = preproc(wiki_articles)"
      ],
      "execution_count": 51,
      "outputs": []
    },
    {
      "cell_type": "code",
      "metadata": {
        "id": "OFksLqS4z6bQ"
      },
      "source": [
        "def wiki_buildIndex(wiki_articles):\n",
        "    wiki_types = []\n",
        "    for article in wiki_articles.values():\n",
        "        for w in article:\n",
        "            if w not in wiki_types and w.isalpha():\n",
        "                wiki_types.append(w)\n",
        "\n",
        "    m = len(wiki_types)\n",
        "    n = len(wiki_articles)\n",
        "    TA_matrix = np.zeros([n,m])\n",
        "    \n",
        "    for row,article in enumerate(wiki_articles.values()):\n",
        "      for word in article:\n",
        "        if word.isalpha():\n",
        "          col = wiki_types.index(word) \n",
        "          TA_matrix[row,col] += 1\n",
        "        \n",
        "    df = np.sum(TA_matrix > 0, axis=0)      \n",
        "    idf = np.log(n/df)\n",
        "    \n",
        "    for i in range(m):\n",
        "        TA_matrix[:,i] *= idf[i] \n",
        "    \n",
        "    wiki_index = {word:vector for (word,vector) in zip(wiki_types,TA_matrix.transpose())}\n",
        "    \n",
        "    return wiki_types,wiki_index"
      ],
      "execution_count": 55,
      "outputs": []
    },
    {
      "cell_type": "code",
      "metadata": {
        "colab": {
          "base_uri": "https://localhost:8080/"
        },
        "id": "pmIZi_Szz_D-",
        "outputId": "844fab8e-a2f9-4460-d2cc-a7b70535a66b"
      },
      "source": [
        "%%time\n",
        "wiki_types,wiki_index = wiki_buildIndex(processedWiki)"
      ],
      "execution_count": 56,
      "outputs": [
        {
          "output_type": "stream",
          "text": [
            "CPU times: user 31.6 s, sys: 68.8 ms, total: 31.7 s\n",
            "Wall time: 31.7 s\n"
          ],
          "name": "stdout"
        }
      ]
    },
    {
      "cell_type": "markdown",
      "metadata": {
        "id": "xGTGdrJewncY"
      },
      "source": [
        "Function for....."
      ]
    },
    {
      "cell_type": "code",
      "metadata": {
        "id": "TH80k-mYG-c8"
      },
      "source": [
        "def queryEx_ESA(queries,types,wiki_index,threshold,weigh):\n",
        "        wr_dic = {}; expanded_query = {}\n",
        "        for q_id,query in queries.items():\n",
        "            sim_dic = {}; expanded = query.copy()\n",
        "            for q in query:\n",
        "                sim_dic[q] = 1;\n",
        "                for t in types:\n",
        "                  if t not in expanded:\n",
        "                    # similarity propagation\n",
        "                    try:\n",
        "                      sim = cosine_similarity(wiki_index[q],wiki_index[t])\n",
        "                      if sim >= threshold:\n",
        "                        expanded.append(t)\n",
        "                        sim_dic[t] = weigh\n",
        "                          # else:\n",
        "                          #     sim_dic[t] = max(sim,sim_dic[t])\n",
        "                    except KeyError:\n",
        "                      #f += 1\n",
        "                      continue\n",
        "            expanded_query[q_id] = expanded\n",
        "            wr_dic[q_id] = sim_dic\n",
        "        return expanded_query, wr_dic"
      ],
      "execution_count": 57,
      "outputs": []
    },
    {
      "cell_type": "code",
      "metadata": {
        "id": "AxDOgoH0XxBw",
        "colab": {
          "base_uri": "https://localhost:8080/"
        },
        "outputId": "35161e0c-2e3a-428f-c653-e44ab56068eb"
      },
      "source": [
        "%%time\n",
        "threshold = 0.8\n",
        "weigh = 0.1\n",
        "exQ_ESA, wrD_ESA = queryEx_ESA(processedQueries,types_doc,wiki_index,threshold,weigh)"
      ],
      "execution_count": 58,
      "outputs": [
        {
          "output_type": "stream",
          "text": [
            "CPU times: user 2min 50s, sys: 515 ms, total: 2min 50s\n",
            "Wall time: 2min 50s\n"
          ],
          "name": "stdout"
        }
      ]
    },
    {
      "cell_type": "code",
      "metadata": {
        "id": "82iulYESxGP3"
      },
      "source": [
        "TQ_matrix_esa = np.zeros([L,Q])\n",
        "for col, query in exQ_ESA.items():                  # iterating over documents\n",
        "    for word in query:\n",
        "      try:\n",
        "        row = types_doc.index(word)\n",
        "        TQ_matrix_esa[row,col-1] += 1\n",
        "      except:\n",
        "        pass\n",
        "\n",
        "for col in range(Q):\n",
        "  weights = wrD_ESA[col+1]\n",
        "  for q in exQ_ESA[col+1]:\n",
        "    try:\n",
        "      row = types_doc.index(q)    \n",
        "      TQ_matrix_esa[row,col] = weights[q]*IDF[row]*TQ_matrix_esa[row,col]\n",
        "    except:\n",
        "      pass"
      ],
      "execution_count": 59,
      "outputs": []
    },
    {
      "cell_type": "code",
      "metadata": {
        "id": "aE3eExFkxJ8A",
        "colab": {
          "base_uri": "https://localhost:8080/",
          "height": 856
        },
        "outputId": "2b0428ba-4dfe-4d09-a1d9-283957445a00"
      },
      "source": [
        "doc_IDs_ordered_esa  = []\n",
        "\n",
        "for j in range(Q):\n",
        "  cos_sim = {}\n",
        "  for doc_id, doc_vector in index_doc.items():\n",
        "      cos_sim[doc_id] = cosine_similarity(doc_vector,TQ_matrix_esa[:,j])\n",
        "  doc_IDs_ordered_esa.append([x for x, _ in sorted(cos_sim.items(),key = operator.itemgetter(1),reverse = True)])\n",
        "\n",
        "results(doc_IDs_ordered_esa)"
      ],
      "execution_count": 60,
      "outputs": [
        {
          "output_type": "stream",
          "text": [
            "Precision, Recall and F-score @ 1 : 0.64, 0.10732328309719502, 0.17677968571645725\n",
            "MAP, nDCG @ 1 : 0.10732328309719502, 0.5255555555555556\n",
            "Precision, Recall and F-score @ 2 : 0.5355555555555556, 0.17665290190660818, 0.24895244872124075\n",
            "MAP, nDCG @ 2 : 0.16910632924600041, 0.48496515269749857\n",
            "Precision, Recall and F-score @ 3 : 0.4844444444444445, 0.22918038204133373, 0.2885994356480713\n",
            "MAP, nDCG @ 3 : 0.21055128445747184, 0.4634617932217854\n",
            "Precision, Recall and F-score @ 4 : 0.4266666666666667, 0.2620207847758541, 0.2999634254819815\n",
            "MAP, nDCG @ 4 : 0.23306118037128926, 0.44896554355350415\n",
            "Precision, Recall and F-score @ 5 : 0.3982222222222222, 0.29980226028539986, 0.3154266347479878\n",
            "MAP, nDCG @ 5 : 0.2531116778919622, 0.44821503755262915\n",
            "Precision, Recall and F-score @ 6 : 0.36740740740740757, 0.3309920915269552, 0.32098875486191075\n",
            "MAP, nDCG @ 6 : 0.2676596069743741, 0.4495367340460982\n",
            "Precision, Recall and F-score @ 7 : 0.3415873015873019, 0.3548034612651781, 0.3211680299868845\n",
            "MAP, nDCG @ 7 : 0.2791985475503343, 0.451344687419248\n",
            "Precision, Recall and F-score @ 8 : 0.3188888888888889, 0.3750929213827084, 0.31842238195736455\n",
            "MAP, nDCG @ 8 : 0.2890657708079085, 0.4546352949686139\n",
            "Precision, Recall and F-score @ 9 : 0.30172839506172877, 0.39157988685006584, 0.3151789927602344\n",
            "MAP, nDCG @ 9 : 0.2962988028448621, 0.45878347652365825\n",
            "Precision, Recall and F-score @ 10 : 0.28488888888888914, 0.40801754310611293, 0.31039166234504384\n",
            "MAP, nDCG @ 10 : 0.30262013317056025, 0.46242365680337033\n"
          ],
          "name": "stdout"
        },
        {
          "output_type": "display_data",
          "data": {
            "image/png": "[encoded data removed]",
            "text/plain": [
              "<Figure size 720x576 with 1 Axes>"
            ]
          },
          "metadata": {
            "tags": [],
            "needs_background": "light"
          }
        }
      ]
    },
    {
      "cell_type": "code",
      "metadata": {
        "id": "eTu9giwL0Tri"
      },
      "source": [
        ""
      ],
      "execution_count": null,
      "outputs": []
    },
    {
      "cell_type": "markdown",
      "metadata": {
        "id": "zkJPeITyzBOo"
      },
      "source": [
        "## **IMPLEMENTATION OF LATENT SEMANTIC INDEXING ON CRANFIELD DATASET**"
      ]
    },
    {
      "cell_type": "markdown",
      "metadata": {
        "id": "vEZW7RtAMoG6"
      },
      "source": [
        "**Importing essentials**"
      ]
    },
    {
      "cell_type": "code",
      "metadata": {
        "id": "BabcYlO_zAw9"
      },
      "source": [
        "import gensim\n",
        "from gensim import corpora"
      ],
      "execution_count": 19,
      "outputs": []
    },
    {
      "cell_type": "markdown",
      "metadata": {
        "id": "Cs_RPErGM8qS"
      },
      "source": [
        "**Using Gensim for CBoW implementation**"
      ]
    },
    {
      "cell_type": "code",
      "metadata": {
        "id": "dIEmGg4MMnI7"
      },
      "source": [
        "cd = corpora.Dictionary(processedDocs.values())\n",
        "BoW_corpus = [cd.doc2bow(doc) for doc in processedDocs.values()]"
      ],
      "execution_count": 20,
      "outputs": []
    },
    {
      "cell_type": "markdown",
      "metadata": {
        "id": "m05yTwMaOw0z"
      },
      "source": [
        "Objects of the class ***gensim.models.TfidfModel*** realize the transformation between word-document co-occurrence matrix (int) into a locally/globally weighted TF-IDF matrix (positive floats)."
      ]
    },
    {
      "cell_type": "code",
      "metadata": {
        "id": "E4afBfc4M5ni"
      },
      "source": [
        "tfidf = gensim.models.TfidfModel(BoW_corpus)\n",
        "corpus_tfidf = tfidf[BoW_corpus]"
      ],
      "execution_count": 21,
      "outputs": []
    },
    {
      "cell_type": "markdown",
      "metadata": {
        "id": "pIIudH7EPqv0"
      },
      "source": [
        "***gensim.models.LsiModel*** implements fast truncated SVD (Singular Value Decomposition)\n",
        "After searching over large number of values, parameter ***num_topics = 250*** was chosen to be the optimal choice."
      ]
    },
    {
      "cell_type": "code",
      "metadata": {
        "id": "rbGwOSReOPEq"
      },
      "source": [
        "lsi = gensim.models.LsiModel(corpus_tfidf, num_topics=250)\n",
        "index = gensim.similarities.MatrixSimilarity(lsi[corpus_tfidf])"
      ],
      "execution_count": 22,
      "outputs": []
    },
    {
      "cell_type": "markdown",
      "metadata": {
        "id": "sCdKcZWVQar4"
      },
      "source": [
        "Representing queries in ***Latent Concept space*** followed by computing cosine similarity between documents."
      ]
    },
    {
      "cell_type": "code",
      "metadata": {
        "id": "6-SilrvRQbMC"
      },
      "source": [
        "new_vecQ = [cd.doc2bow(qry) for qry in processedQueries.values()]\n",
        "vec_bow_tfidfQ = [tfidf[q] for q in new_vecQ]\n",
        "vec_lsiQ = [lsi[i] for i in vec_bow_tfidfQ]\n",
        "sims = [index[i] for i in vec_lsiQ]"
      ],
      "execution_count": 23,
      "outputs": []
    },
    {
      "cell_type": "markdown",
      "metadata": {
        "id": "U0yFWEYeVtqB"
      },
      "source": [
        "Ranking the documents in the decreasing order of closeness to a query"
      ]
    },
    {
      "cell_type": "code",
      "metadata": {
        "id": "2xXiFwSMVuOC"
      },
      "source": [
        "doc_IDs_ordered_LSI = [[i+1 for i,_ in sorted(enumerate(s), key=lambda item: -item[1])] for s in sims]"
      ],
      "execution_count": 24,
      "outputs": []
    },
    {
      "cell_type": "markdown",
      "metadata": {
        "id": "kTNWLjq5WEwm"
      },
      "source": [
        "Evaluating and displaying ***IR performance of LSI***\n",
        "\n",
        "**Note:** Outputs differ with each run"
      ]
    },
    {
      "cell_type": "code",
      "metadata": {
        "colab": {
          "base_uri": "https://localhost:8080/",
          "height": 856
        },
        "id": "F40ec_LAWDlW",
        "outputId": "d9152b26-d9c9-441a-9f6f-922a476f725a"
      },
      "source": [
        "results(doc_IDs_ordered_LSI)"
      ],
      "execution_count": 25,
      "outputs": [
        {
          "output_type": "stream",
          "text": [
            "Precision, Recall and F-score @ 1 : 0.6888888888888889, 0.11277958378156583, 0.1858203487571203\n",
            "MAP, nDCG @ 1 : 0.11277958378156583, 0.5611111111111111\n",
            "Precision, Recall and F-score @ 2 : 0.5844444444444444, 0.18847734243951103, 0.267332841557774\n",
            "MAP, nDCG @ 2 : 0.18036747391297595, 0.5191213989891625\n",
            "Precision, Recall and F-score @ 3 : 0.5392592592592592, 0.25534568710663885, 0.3221351082715978\n",
            "MAP, nDCG @ 3 : 0.23318979198505743, 0.5053123411505555\n",
            "Precision, Recall and F-score @ 4 : 0.48777777777777775, 0.3010203713081761, 0.3446270552435363\n",
            "MAP, nDCG @ 4 : 0.264768851555521, 0.49707518502268494\n",
            "Precision, Recall and F-score @ 5 : 0.44088888888888916, 0.33496355158468955, 0.35163227241940404\n",
            "MAP, nDCG @ 5 : 0.2864950549817245, 0.4906749764976129\n",
            "Precision, Recall and F-score @ 6 : 0.4059259259259261, 0.36878291378910927, 0.3569060989081701\n",
            "MAP, nDCG @ 6 : 0.3054660429124826, 0.49233828878256264\n",
            "Precision, Recall and F-score @ 7 : 0.37460317460317477, 0.389723942477197, 0.3526470522936623\n",
            "MAP, nDCG @ 7 : 0.31748607524035793, 0.4931057103404057\n",
            "Precision, Recall and F-score @ 8 : 0.355, 0.4146007943005099, 0.35313730173785496\n",
            "MAP, nDCG @ 8 : 0.32973530421039765, 0.49759502862437843\n",
            "Precision, Recall and F-score @ 9 : 0.3402469135802475, 0.44332108998158976, 0.35566314739888993\n",
            "MAP, nDCG @ 9 : 0.3419791436034746, 0.5057684054190813\n",
            "Precision, Recall and F-score @ 10 : 0.32266666666666677, 0.46096215262265233, 0.35095798694377267\n",
            "MAP, nDCG @ 10 : 0.34968735144501567, 0.5099460868764986\n"
          ],
          "name": "stdout"
        },
        {
          "output_type": "display_data",
          "data": {
            "image/png": "[encoded data removed]",
            "text/plain": [
              "<Figure size 720x576 with 1 Axes>"
            ]
          },
          "metadata": {
            "tags": [],
            "needs_background": "light"
          }
        }
      ]
    },
    {
      "cell_type": "code",
      "metadata": {
        "colab": {
          "base_uri": "https://localhost:8080/",
          "height": 348
        },
        "id": "hZZEnBATz1Ps",
        "outputId": "d1cec064-b2f0-4158-ec64-f533b6cc2ac7"
      },
      "source": [
        "#will take some time to run as it is computing nDCG for multiple no of topics\n",
        "\n",
        "def num_topics_selector(docs,queries):\n",
        "  cd = corpora.Dictionary(docs)\n",
        "  BoW_corpus = [cd.doc2bow(line) for line in docs]\n",
        "  tfidf = gensim.models.TfidfModel(BoW_corpus)\n",
        "  corpus_tfidf = tfidf[BoW_corpus]\n",
        "  new_vecQ = [cd.doc2bow(qry) for qry in queries]\n",
        "  vec_bow_tfidfQ = [tfidf[q] for q in new_vecQ]\n",
        "  nDCG = {}\n",
        "  for n in tqdm(range(2,1000,10)):\n",
        "    lsi = gensim.models.LsiModel(corpus_tfidf, num_topics=n)\n",
        "    index = gensim.similarities.MatrixSimilarity(lsi[corpus_tfidf])\n",
        "    vec_lsiQ = [lsi[i] for i in vec_bow_tfidfQ]\n",
        "    sims = [index[i] for i in vec_lsiQ]\n",
        "    order = [[i+1 for i,_ in sorted(enumerate(s), key=lambda item: -item[1])] for s in sims]\n",
        "    nDCG[n] = evaluator.meanNDCG(order, query_ids, qrels, 10)\n",
        "  return nDCG\n",
        "\n",
        "outputs = num_topics_selector(processedDocs.values(),processedQueries.values())\n",
        "print((max(outputs,key = outputs.get),outputs[max(outputs,key = outputs.get)]))\n",
        "plt.plot(list(outputs.keys()),list(outputs.values()))\n",
        "plt.legend()\n",
        "plt.title(\"nDCG@10 against 'num_topics' - Cranfield Dataset\")\n",
        "plt.xlabel(\"num_topics\")\n",
        "plt.ylabel(\"nDCG@10\")\n",
        "plt.savefig(\"LSA_selection.png\")"
      ],
      "execution_count": 26,
      "outputs": [
        {
          "output_type": "stream",
          "text": [
            "100%|██████████| 100/100 [09:47<00:00,  5.88s/it]\n",
            "No handles with labels found to put in legend.\n"
          ],
          "name": "stderr"
        },
        {
          "output_type": "stream",
          "text": [
            "(192, 0.5156141736654976)\n"
          ],
          "name": "stdout"
        },
        {
          "output_type": "display_data",
          "data": {
            "image/png": "[encoded data removed]",
            "text/plain": [
              "<Figure size 432x288 with 1 Axes>"
            ]
          },
          "metadata": {
            "tags": [],
            "needs_background": "light"
          }
        }
      ]
    },
    {
      "cell_type": "markdown",
      "metadata": {
        "id": "MukYfRiIDWWF"
      },
      "source": [
        "# **Word2Vec**"
      ]
    },
    {
      "cell_type": "markdown",
      "metadata": {
        "id": "0jT9efxtts0Q"
      },
      "source": [
        "Defining an iterator that yields preprocessed docs of Cranfield\n"
      ]
    },
    {
      "cell_type": "code",
      "metadata": {
        "id": "MZ2JSqKSDV9D"
      },
      "source": [
        "import gensim.models\n",
        "\n",
        "class MyCorpus:\n",
        "  def __iter__(self):\n",
        "      for doc in processedDocs.values():\n",
        "        yield doc\n",
        "sentences = MyCorpus()"
      ],
      "execution_count": 27,
      "outputs": []
    },
    {
      "cell_type": "markdown",
      "metadata": {
        "id": "tXoVG86OuRQ2"
      },
      "source": [
        "Training Word2Vec ***Skip Gram Model*** with Cranfield"
      ]
    },
    {
      "cell_type": "code",
      "metadata": {
        "id": "_y01ZHSEFLsU"
      },
      "source": [
        "model = gensim.models.Word2Vec(sentences, min_count=1,size= 700,workers=4, window =3, sg =1);"
      ],
      "execution_count": 28,
      "outputs": []
    },
    {
      "cell_type": "markdown",
      "metadata": {
        "id": "0fSq4ssfu278"
      },
      "source": [
        "Finding most similar terms of types in queries using ***model.wv.most_similar***"
      ]
    },
    {
      "cell_type": "code",
      "metadata": {
        "id": "HFo0ws9qu2l_"
      },
      "source": [
        "mostSim = {term:model.wv.most_similar(term)[:5] for term in types_qry if term in types_doc}"
      ],
      "execution_count": 29,
      "outputs": []
    },
    {
      "cell_type": "markdown",
      "metadata": {
        "id": "CD3VodV4vU9S"
      },
      "source": [
        "Query Expansion with ***mostSim*** and providing a small weight to the expanded queries with an intent to not spoil the nature of queries."
      ]
    },
    {
      "cell_type": "code",
      "metadata": {
        "id": "k0F5kFhhNeNP"
      },
      "source": [
        "def queryEx_w2v(processedQueries,mostSim,weight):\n",
        "  wr_dic = {}; expanded_query = {}\n",
        "  for q_id,qry in processedQueries.items():\n",
        "    sim_dic = {}; expanded = qry.copy();\n",
        "    for q in qry:\n",
        "      sim_dic[q] = 1\n",
        "      try:\n",
        "        for i in mostSim[q]:\n",
        "          if i[0] not in expanded:\n",
        "            expanded.append(i[0])\n",
        "            #sim_dic[i[0]] = i[1] #watch out\n",
        "            sim_dic[i[0]] = weight\n",
        "      except KeyError:\n",
        "        pass\n",
        "    \n",
        "    expanded_query[q_id] = expanded\n",
        "    wr_dic[q_id] = sim_dic\n",
        "  return expanded_query, wr_dic"
      ],
      "execution_count": 30,
      "outputs": []
    },
    {
      "cell_type": "code",
      "metadata": {
        "id": "nCVoPv7MOJgh"
      },
      "source": [
        "exQ_w2v, wrD_w2v = queryEx_w2v(processedQueries,mostSim,0.1)"
      ],
      "execution_count": 31,
      "outputs": []
    },
    {
      "cell_type": "markdown",
      "metadata": {
        "id": "q_QeUvogvzj5"
      },
      "source": [
        "Computing Term Query Matrix for the expanded query"
      ]
    },
    {
      "cell_type": "code",
      "metadata": {
        "id": "F7ucacZgOrcL"
      },
      "source": [
        "TQ_matrix_w2v = np.zeros([L,Q])\n",
        "for col, query in exQ_w2v.items():                  # iterating over documents\n",
        "    for word in query:\n",
        "      try:\n",
        "        row = types_doc.index(word)\n",
        "        TQ_matrix_w2v[row,col-1] += 1\n",
        "      except:\n",
        "        pass\n",
        "\n",
        "for col in range(Q):\n",
        "  weights = wrD_w2v[col+1]\n",
        "  for q in exQ_w2v[col+1]:\n",
        "    try:\n",
        "      row = types_doc.index(q)    \n",
        "      TQ_matrix_w2v[row,col] = weights[q]*IDF[row]*TQ_matrix_w2v[row,col]\n",
        "    except:\n",
        "      pass"
      ],
      "execution_count": 32,
      "outputs": []
    },
    {
      "cell_type": "code",
      "metadata": {
        "colab": {
          "base_uri": "https://localhost:8080/",
          "height": 873
        },
        "id": "gpKxuLzuQm-0",
        "outputId": "c2a0c398-ea5d-4ff2-f06b-1cb7ab43cb5f"
      },
      "source": [
        "doc_IDs_ordered_w2v  = []\n",
        "\n",
        "for j in tqdm(range(Q)):\n",
        "  cos_sim = {}\n",
        "  for doc_id, doc_vector in index_doc.items():\n",
        "      cos_sim[doc_id] = cosine_similarity(doc_vector,TQ_matrix_w2v[:,j])\n",
        "  doc_IDs_ordered_w2v.append([x for x, _ in sorted(cos_sim.items(),key = operator.itemgetter(1),reverse = True)])\n",
        "\n",
        "results(doc_IDs_ordered_w2v)"
      ],
      "execution_count": 33,
      "outputs": [
        {
          "output_type": "stream",
          "text": [
            "100%|██████████| 225/225 [00:51<00:00,  4.38it/s]\n"
          ],
          "name": "stderr"
        },
        {
          "output_type": "stream",
          "text": [
            "Precision, Recall and F-score @ 1 : 0.6133333333333333, 0.10232665010056201, 0.16846222539899694\n",
            "MAP, nDCG @ 1 : 0.10232665010056201, 0.5033333333333333\n",
            "Precision, Recall and F-score @ 2 : 0.54, 0.1788048320389305, 0.25198405091486564\n",
            "MAP, nDCG @ 2 : 0.16822474967814632, 0.48036349651571514\n",
            "Precision, Recall and F-score @ 3 : 0.48148148148148134, 0.2263744207549803, 0.28599189049666646\n",
            "MAP, nDCG @ 3 : 0.20590686243069684, 0.45593629650872464\n",
            "Precision, Recall and F-score @ 4 : 0.43666666666666665, 0.26643322854123913, 0.30616159768015383\n",
            "MAP, nDCG @ 4 : 0.23205681690614152, 0.448491351396789\n",
            "Precision, Recall and F-score @ 5 : 0.40622222222222243, 0.30286961885275837, 0.3204315548364994\n",
            "MAP, nDCG @ 5 : 0.2515700959444979, 0.44845887922696753\n",
            "Precision, Recall and F-score @ 6 : 0.3733333333333333, 0.33385934954127205, 0.32520585856693707\n",
            "MAP, nDCG @ 6 : 0.2674867840214859, 0.4486097600239275\n",
            "Precision, Recall and F-score @ 7 : 0.3434920634920639, 0.35811673413199, 0.3238223770783774\n",
            "MAP, nDCG @ 7 : 0.2790175002188687, 0.45006580361347126\n",
            "Precision, Recall and F-score @ 8 : 0.31833333333333336, 0.37398950885182347, 0.3178700715707689\n",
            "MAP, nDCG @ 8 : 0.28744496910074935, 0.45132920636612983\n",
            "Precision, Recall and F-score @ 9 : 0.29728395061728424, 0.3884141318085627, 0.31156612107184023\n",
            "MAP, nDCG @ 9 : 0.2940488461876104, 0.45285976648525905\n",
            "Precision, Recall and F-score @ 10 : 0.28266666666666684, 0.4067531261475571, 0.3087529687363813\n",
            "MAP, nDCG @ 10 : 0.3006025887413528, 0.4578236472189138\n"
          ],
          "name": "stdout"
        },
        {
          "output_type": "display_data",
          "data": {
            "image/png": "[encoded data removed]",
            "text/plain": [
              "<Figure size 720x576 with 1 Axes>"
            ]
          },
          "metadata": {
            "tags": [],
            "needs_background": "light"
          }
        }
      ]
    },
    {
      "cell_type": "code",
      "metadata": {
        "id": "XCcuZcUy7r5g"
      },
      "source": [
        ""
      ],
      "execution_count": null,
      "outputs": []
    }
  ]
}
